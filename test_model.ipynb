{
 "cells": [
  {
   "cell_type": "code",
   "execution_count": 14,
   "id": "9c2ab0ec",
   "metadata": {},
   "outputs": [
    {
     "name": "stderr",
     "output_type": "stream",
     "text": [
      "WARNING:absl:Compiled the loaded model, but the compiled metrics have yet to be built. `model.compile_metrics` will be empty until you train or evaluate the model.\n"
     ]
    },
    {
     "name": "stdout",
     "output_type": "stream",
     "text": [
      "\u001b[1m1/1\u001b[0m \u001b[32m━━━━━━━━━━━━━━━━━━━━\u001b[0m\u001b[37m\u001b[0m \u001b[1m1s\u001b[0m 1s/step   \n",
      "Kalimat: tiap main rank pasti aja ada player beban/males\n",
      "Prediksi Sentimen (LSTM): negatif\n",
      "Prediksi Sentimen (MLP): negatif\n",
      "Prediksi Sentimen (Logistic Regression): negatif\n",
      "--------------------------------------------------\n",
      "Kalimat: grafik sudah oke, efek visual skill dalam pertandingan sudah mantap, skin2 hero keren\n",
      "Prediksi Sentimen (LSTM): positif\n",
      "Prediksi Sentimen (MLP): positif\n",
      "Prediksi Sentimen (Logistic Regression): positif\n",
      "--------------------------------------------------\n",
      "Kalimat: mohon di perhatikan lagi ,di perbaiki,jangan perbarui skin trus\n",
      "Prediksi Sentimen (LSTM): positif\n",
      "Prediksi Sentimen (MLP): negatif\n",
      "Prediksi Sentimen (Logistic Regression): negatif\n",
      "--------------------------------------------------\n"
     ]
    }
   ],
   "source": [
    "import joblib\n",
    "import numpy as np\n",
    "import pickle\n",
    "from tensorflow.keras.preprocessing.sequence import pad_sequences\n",
    "from tensorflow.keras.models import load_model\n",
    "\n",
    "# Load model dan vectorizer\n",
    "vectorizer = joblib.load('vectorizer.pkl')\n",
    "model_nlp = load_model('model_nlp.h5')\n",
    "\n",
    "# Muat tokenizer yang telah dilatih sebelumnya\n",
    "with open('tokenizer.pkl', 'rb') as f:\n",
    "    tokenizer = pickle.load(f)\n",
    "\n",
    "logistic_model = joblib.load('logistic_model.pkl')\n",
    "model_mlp = joblib.load('mlp_model.pkl')\n",
    "\n",
    "# Mapping manual label\n",
    "mapping_label = {0: \"negatif\", 1: \"netral\", 2: \"positif\"}\n",
    "\n",
    "# Kalimat baru untuk dites\n",
    "kalimat = [\n",
    "    \"tiap main rank pasti aja ada player beban/males\",\n",
    "    \"grafik sudah oke, efek visual skill dalam pertandingan sudah mantap, skin2 hero keren\",\n",
    "    \"mohon di perhatikan lagi ,di perbaiki,jangan perbarui skin trus\"\n",
    "]\n",
    "\n",
    "# Tokenisasi dan padding (untuk model LSTM)\n",
    "sekuens = tokenizer.texts_to_sequences(kalimat)\n",
    "kalimat_pad = pad_sequences(sekuens, maxlen=1000)  # Sesuaikan dengan panjang input saat training\n",
    "\n",
    "# Prediksi menggunakan model LSTM\n",
    "prediksi_nlp = model_nlp.predict(kalimat_pad)\n",
    "\n",
    "# Prediksi menggunakan MLP dan Logistic Regression (untuk vectorizer)\n",
    "kalimat_vec = vectorizer.transform(kalimat)\n",
    "prediksi_mlp = model_mlp.predict(kalimat_vec)\n",
    "prediksi_logreg = logistic_model.predict(kalimat_vec)\n",
    "\n",
    "# Fungsi untuk mengambil argmax jika output berupa probabilitas\n",
    "def get_pred_label(pred):\n",
    "    return np.argmax(pred, axis=1) if len(pred.shape) > 1 and pred.shape[1] > 1 else pred\n",
    "\n",
    "# Ambil label prediksi untuk masing-masing model\n",
    "label_mlp = [mapping_label[i] for i in get_pred_label(prediksi_mlp)]\n",
    "label_logreg = [mapping_label[i] for i in get_pred_label(prediksi_logreg)]\n",
    "label_nlp = [mapping_label[i] for i in get_pred_label(prediksi_nlp)]\n",
    "\n",
    "\n",
    "# Cetak hasil prediksi untuk setiap kalimat\n",
    "for i, kalimat_item in enumerate(kalimat):\n",
    "    print(f\"Kalimat: {kalimat_item}\")\n",
    "    print(f\"Prediksi Sentimen (LSTM): {label_nlp[i]}\")  # LSTM model\n",
    "    print(f\"Prediksi Sentimen (MLP): {label_mlp[i]}\")\n",
    "    print(f\"Prediksi Sentimen (Logistic Regression): {label_logreg[i]}\")\n",
    "    print(\"-\" * 50)\n"
   ]
  },
  {
   "cell_type": "code",
   "execution_count": null,
   "id": "8899d35c",
   "metadata": {},
   "outputs": [],
   "source": []
  }
 ],
 "metadata": {
  "kernelspec": {
   "display_name": "Python 3",
   "language": "python",
   "name": "python3"
  },
  "language_info": {
   "codemirror_mode": {
    "name": "ipython",
    "version": 3
   },
   "file_extension": ".py",
   "mimetype": "text/x-python",
   "name": "python",
   "nbconvert_exporter": "python",
   "pygments_lexer": "ipython3",
   "version": "3.12.2"
  }
 },
 "nbformat": 4,
 "nbformat_minor": 5
}
